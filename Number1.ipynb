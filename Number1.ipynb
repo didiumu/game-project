{
 "cells": [
  {
   "cell_type": "code",
   "execution_count": 1,
   "id": "9a5a31b1-0d5f-49e7-97fe-61ab0619ee8d",
   "metadata": {},
   "outputs": [
    {
     "name": "stdout",
     "output_type": "stream",
     "text": [
      "Welcome to 'Guess the Number' game!\n",
      "I'm thinking of a number between 1 and 20.\n"
     ]
    },
    {
     "name": "stdin",
     "output_type": "stream",
     "text": [
      "Take a guess:  5\n"
     ]
    },
    {
     "name": "stdout",
     "output_type": "stream",
     "text": [
      "Your guess is too low.\n"
     ]
    },
    {
     "name": "stdin",
     "output_type": "stream",
     "text": [
      "Take a guess:  17\n"
     ]
    },
    {
     "name": "stdout",
     "output_type": "stream",
     "text": [
      "Your guess is too low.\n"
     ]
    },
    {
     "name": "stdin",
     "output_type": "stream",
     "text": [
      "Take a guess:  20\n"
     ]
    },
    {
     "name": "stdout",
     "output_type": "stream",
     "text": [
      "Good job! You guessed my number in 3 attempts.\n"
     ]
    }
   ],
   "source": [
    "import random\n",
    "\n",
    "def guess_the_number():\n",
    "    number_to_guess = random.randint(1, 20)\n",
    "    print(\"Welcome to 'Guess the Number' game!\")\n",
    "    print(\"I'm thinking of a number between 1 and 20.\")\n",
    "    \n",
    "    for attempts in range(1, 7):  # 6 attempts\n",
    "        guess = int(input(\"Take a guess: \"))\n",
    "        \n",
    "        if guess < number_to_guess:\n",
    "            print(\"Your guess is too low.\")\n",
    "        elif guess > number_to_guess:\n",
    "            print(\"Your guess is too high.\")\n",
    "        else:\n",
    "            break  # Correct guess\n",
    "    \n",
    "    if guess == number_to_guess:\n",
    "        print(f\"Good job! You guessed my number in {attempts} attempts.\")\n",
    "    else:\n",
    "        print(f\"Nope. The number I was thinking of was {number_to_guess}.\")\n",
    "\n",
    "guess_the_number()\n"
   ]
  },
  {
   "cell_type": "code",
   "execution_count": null,
   "id": "58cca9f2-550e-4717-80ee-ac0fc3b9d946",
   "metadata": {},
   "outputs": [],
   "source": []
  }
 ],
 "metadata": {
  "kernelspec": {
   "display_name": "Python 3 (ipykernel)",
   "language": "python",
   "name": "python3"
  },
  "language_info": {
   "codemirror_mode": {
    "name": "ipython",
    "version": 3
   },
   "file_extension": ".py",
   "mimetype": "text/x-python",
   "name": "python",
   "nbconvert_exporter": "python",
   "pygments_lexer": "ipython3",
   "version": "3.12.6"
  }
 },
 "nbformat": 4,
 "nbformat_minor": 5
}
